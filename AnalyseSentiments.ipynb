{
 "cells": [
  {
   "cell_type": "markdown",
   "id": "63b5b402",
   "metadata": {},
   "source": [
    "Analyse de sentiment : l’objectif est de prédire la note (entre 1 et 0) à partir du texte de la revue d’un film, pour les données issues de la base de données IMDB (50000 revues sur des films, données accessibles sur http://ai.stanford.edu/~amaas/data/sentiment/) ; découper l’ensemble de données en données d’apprentissage et données de test."
   ]
  },
  {
   "cell_type": "code",
   "execution_count": 21,
   "id": "088381b8",
   "metadata": {},
   "source": [
    "from sklearn.model_selection import train_test_split\n",
    "from sklearn.utils import shuffle\n",
    "import pandas as pd\n",
    "import nltk\n",
    "from nltk import word_tokenize\n",
    "from nltk.corpus import stopwords\n",
    "from nltk import stem\n",
    "from nltk.stem.wordnet import WordNetLemmatizer\n",
    "import string\n",
    "from sklearn.utils import shuffle\n",
    "nltk.download(['stopwords','punkt','averaged_perceptron_tagger'])\n",
    "import warnings\n",
    "warnings.filterwarnings(\"ignore\")\n"
   ],
   "outputs": []
  },
  {
   "cell_type": "code",
   "execution_count": 22,
   "id": "ed66be05",
   "metadata": {},
   "source": [
    "data_train = pd.read_csv('train.csv')\n",
    "data_test = pd.read.csv('test.csv')"
   ],
   "outputs": []
  },
  {
   "cell_type": "code",
   "execution_count": 23,
   "id": "eab0d328",
   "metadata": {},
   "source": [
    "data_d = [[str(i)] for i in  data['Text'].values[0:len(data)]]\n",
    "label = [[float(i)] for i in  data['Sentiments'].values[0:len(data)]]"
   ],
   "outputs": []
  },
  {
   "cell_type": "code",
   "execution_count": null,
   "id": "cf40c30a",
   "metadata": {},
   "source": [],
   "outputs": []
  },
  {
   "cell_type": "code",
   "execution_count": 25,
   "id": "9cd41e71",
   "metadata": {},
   "source": [
    "d=[]\n",
    "for sentence in data_d:\n",
    "    stop_words = stopwords.words('english')\n",
    "    wordwithoustop = ' '.join([word.lower() for word in word_tokenize(sentence[0]) if word not in stop_words+[string.punctuation]])\n",
    "    word_clean = wordwithoustop.replace(\"< br / >\",\"\").replace(\" '' `` \",\"\").replace(\")\",\"\").replace(\"(\",\"\").replace(\"``\",\"\")\\\n",
    "    .replace(\" , \",\",\").replace(\".   \",\".\").replace(\" . \",\".\").replace(\" 's\",\"'s\").replace(\" .\",\".\").replace(\"  \",\" \")\\\n",
    "    .replace(\".,\",\".\").replace(\" '' \",\" \").replace(\" : \",\":\").replace(\".\",\" \").replace(\",\",\" \").replace(\":\",\" \")\\\n",
    "    .replace(\";\",\" \").replace(\"{\",\" \").replace(\"}\",\" \").replace(\"--\",\" \").replace(\"'\",\" \").replace(\"!\",\" \")\\\n",
    "    .replace(\"!\",\" \").replace(\"/\",\" \").replace(\"-\",\" \").replace(\"*\",\" \")\n",
    "    word_tokenize(word_clean)\n",
    "    l = WordNetLemmatizer()\n",
    "    lstem = [l.lemmatize(i) for i in word_tokenize(word_clean)]\n",
    "    d.append(\" \".join(lstem))"
   ],
   "outputs": []
  },
  {
   "cell_type": "code",
   "execution_count": 26,
   "id": "ef567ee6",
   "metadata": {},
   "source": [
    "d_t = pd.DataFrame()\n",
    "d_t['text']=d\n",
    "d_t['label']=[i[0] for i in label]"
   ],
   "outputs": []
  },
  {
   "cell_type": "code",
   "execution_count": 27,
   "id": "d1d2ac8a",
   "metadata": {},
   "source": [
    "d_t = shuffle(d_t)"
   ],
   "outputs": []
  },
  {
   "cell_type": "code",
   "execution_count": 28,
   "id": "678718be",
   "metadata": {},
   "source": [
    "d_t"
   ],
   "outputs": []
  },
  {
   "cell_type": "code",
   "execution_count": 1,
   "id": "cb3dd021",
   "metadata": {},
   "source": [
    "from preProcessing import preProcessing"
   ],
   "outputs": []
  },
  {
   "cell_type": "code",
   "execution_count": 6,
   "id": "9e5fa37c",
   "metadata": {},
   "source": [
    "pr = preProcessing()"
   ],
   "outputs": []
  },
  {
   "cell_type": "code",
   "execution_count": 7,
   "id": "9054f1d1",
   "metadata": {},
   "source": [
    "pr.load_data()"
   ],
   "outputs": []
  },
  {
   "cell_type": "code",
   "execution_count": 8,
   "id": "3066c308",
   "metadata": {},
   "source": [
    "pr.dataRaw(pr.data_train)"
   ],
   "outputs": []
  },
  {
   "cell_type": "code",
   "execution_count": null,
   "id": "2245c687",
   "metadata": {},
   "source": [
    "pr.dataClean()"
   ],
   "outputs": []
  },
  {
   "cell_type": "code",
   "execution_count": null,
   "id": "b831efa7",
   "metadata": {},
   "source": [],
   "outputs": []
  }
 ],
 "metadata": {
  "kernelspec": {
   "display_name": "Python 3 (ipykernel)",
   "language": "python",
   "name": "python3"
  },
  "language_info": {
   "codemirror_mode": {
    "name": "ipython",
    "version": 3
   },
   "file_extension": ".py",
   "mimetype": "text/x-python",
   "name": "python",
   "nbconvert_exporter": "python",
   "pygments_lexer": "ipython3",
   "version": "3.9.13"
  }
 },
 "nbformat": 4,
 "nbformat_minor": 5
}
